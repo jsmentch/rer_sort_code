{
 "cells": [
  {
   "cell_type": "code",
   "execution_count": 1,
   "id": "c2df0aff-3f14-4b18-b520-e6c4334ff161",
   "metadata": {},
   "outputs": [],
   "source": [
    "import os\n",
    "import pandas as pd\n",
    "import csv\n",
    "import glob"
   ]
  },
  {
   "cell_type": "code",
   "execution_count": 45,
   "id": "37bcd894-b6d4-4c6f-9036-671d7876913d",
   "metadata": {},
   "outputs": [],
   "source": [
    "dirlist=['20220509', '20191202', '20191010', '20210331', '20220126', '20190304', '20220124', '20210402', '20190925', '20220520', '20181030', '20221114', '20181106', '20230519', '20210119', '20200208', '20230407', '20221116', '20221118', '20220221', '20230309', '20221117', '20210317', '20230426', '20190227', '20191115', '20210318', '20230328', '20211112', '20210218', '20210215', '20210112', '20201105', '20230314', '20210506', '20190301', '20190917', '20230321', '20190805', '20220414', '20201118', '20221111', '20220525', '20191019', '20220503', '20220429', '20201008', '20190325', '20220120', '20220327', '20230514', '20181109', '20220926', '20190225', '20191025', '20201107', '20210920', '20220901', '20220316', '20221011', '20220928', '20220915', '20190322', '20210421', '20191210', '20201116', '20220809', '20200228', '20210301', '20230604', '20220225', '20230322', '20211209', '20230125', '20230308', '20191028', '20230329', '20211006', '20210211', '20190308', '20230206', '20230203', '20201023', '20220211', '20191213', '20220210', '20210919', '20220303', '20210302', 'SCORE_MISSING', '20201209', '20190909', '20230403', '20210408', '20200225', '20221205', '20200311', '20191121', '20211116', '20200209', '20191113', '20210401', '20181107', '20230214', '20230420', '20210208', '20230207', '20220408', '20190328', '20201211', '20181027', '20181113', '20191105', '20230427', '20230222', '20220218', '20230418', '20220223', '20200924', '20190921', '20230601', '20210930', '20220412', '20211117', '20190221', '20190217', '20220913', '20230313', '20220122', '20191211', '20211211', '20221107', '20190930', '20211110', '20201214', '20190315', '20220513', '20191108', '20220125', '20230303', '20200305', '20191017', '20191119', '20221212', '20210308', '20221129', '20211111', '20220220', '20200205', '20200312', '20221221', '20191015', '20221003', '20210105', '20221010', '20210209', '20191023', '20230521', '20210330', '20190913', '20190804', '20200220', '20230217', '20230606', '20210303', '20191120', '20181025', '20221201', '20181210', '20191003', '20221128', '20201103', '20211121', '20210429', '20181211', '20190320', '20190219', '20230505', '20220302', '20201019', '20220506', '20220314', '20201015', '20181029', '20191022', '.datalad', '20201030', '20220916', '20191004', '20221021', '20220907', '20200206', '20190305', '20181212', '20210113', '20221025', '20211008', '20220311', '20210114', '20230215', '20201207', '20220914', '20221012', '20221101', '20191217', '20220308', '20191110', '20230428', '20191114', '20190929', '20190222', '20190922', '20220411', '20200419', '20210518', '20211015', '20230515', '20211028', '20181125', '20201029', '20201215', '20191111', '20191101', '20210203', '20190218', '20230526', '20230508', '20230327', '20200303', '20190924', '20230509', '20210118', '20181128', '20200203', '20220909', '20221122', '20230511', '20210413', '20230210', '20190303', '20201210', '20220929', '20220410', '20210922', '20191218', '20210125', '20201204', '20210226', '20221108', '20210923', '20200221', '20190919', '20210924', '20230310', '20210326', '20221019', '20220426', '20191125', '20211007', '20220319', '20230502', '20221002', '20230208', '20211019', '20210503', '20220418', '20220927', '20210929', '20210216', '20220922', '20230213', '20221020', '20210921', '20220318', '20201007', '20201111', '20210428', '20200202', '20191021', '20221216', '20220908', '20220519', '20191126', '20220527', '20230614', '20211102', '20200212', '20210108', '20230501', '20181112', '20200114', '20220406', '20221208', '20191006', '20220201', '20220329', '20191107', '20201117', '20221209', '20230130', '20200214', '20211013', '20230223', '20191215', '20230608', '20211206', '20220215', '20220207', '20230227', '20210310', '20210426', '20220912', '20201218', '20210916', '20211014', '20191002', '20200309', '20201028', '20220505', '20220328', '20190903', '20201113', '20210312', '20220831', '20221004', '20190926', '20221005', '20200210', '20230122', '20201101', '20221007', '20200422', '20200213', '20181127', '20201202', '20221123', '20220331', '20181205', '20200130', '20191001', '20220504', '20221001', '20230216', '20220204', '20210430', '20200929', '20210126', '20220524', '20220323', '20210420', '20211025', '20230518', '20220324', '20211204', '20220403', '20210222', '20220131', '20190214', '20221006', '20211213', '20230221', '20230516', '20220510', '20230414', '20220404', '20200131', '20220415', '20210329', '20230220', '20181102', '20220523', '20210415', '20211130', '20190906', '20220930', '20211201', '20210224', '20230302', '20191116', '20230316', '20220419', '20190204', '20211029', '20211123', '20190923', '20200302', '20220602', '20210325', '20220214', '20210514', '20191122', '20230104', '20190312', '20200204', '20190115', '20221215', '20210106', '20220606', '20220830', '20190306', '20201106', '20210917', '20211210', '20210120', '20211207', '20221220', '20190911', '20211122', '20220321', '20190713', '20190904', '20230408', '20220227', '20221102', '20200306', '20230331', '20220130', '20200218', '20190927', '20200217', '20190318', '20220517', '20230124', '20221207', '20220325', '20201027', '20211127', '20211202', '20220502', '20190226', '20211012', '20211208', '20220413', '20210205', '20210217', '20220304', '20210201', '20220209', '20221130', '20181203', '20221031', '20220512', '20230323', '20210225', '20191118', '20230330', '20201119', '20220129', '20181026', '20200930', '20191106', '20220330', '20211118', '20190313', '20211109', '20190228', '20190916', '20220526', '20201112', '20211108', '20190920', '20230306', '20191008', '20210316', '20191011', '20190326', '20210121', '20220121', '20230411', '20211018', '20210204', '20221028', '20201216', '20191206', '20220228', '20211128', '20230211', '20220309', '20190928', '20211217', '20220222', '20211026', '20191014', '20201102', '20191009', '20230517', '20201110', '20220420', '20221024', '20220920', '20200207', '20210315', '20211104', '20201203', '20181121', '20181123', '20230523', '20210418', '20210202', '20220322', '20210323', '20230524', '20221213', '20210510', '20210521', '20220118', '20220224', '20230413', '20191104', '20200304', '20200313', '20230410', '20230317', '20221206', '20210909', '20210319', '20220518', '20230424', '20211103', '20220428', '20210914', '20211119', '20190327', '20230228', '20230412', '20181207', '20181031', '20211005', '20230525', '20211022', '20210419', '20181105', '20181024', '20210223', '20210505', '20220407', '20220203', '20210416', '20200925', '20210304', '20211203', '20201201', '20220310', '20220217', '20230320', '20220531', '20181115', '20220119', '20201208', '20211216', '20230301', '20210115', '20221103', '20201026', '20191016', '20220307', '20201130', '20200223', '20230123', '20230503', '20230127', '20220401', '20210322', '20220516', '20210309', '20230315', '20211020', '20230425', '20230131', '20181226', '20210324', '20211126', '20221110', '20221202', '20210127', '20201109', '20191216', '20230504', '20191127', '20220910', '20210513', '20221109', '20220425', '20221027', '20220315', '20220511', '20210212', '20230202', '20201104', '20181116', '20220208', '20210422', '20211011', '20181126', '20220127', '20220301', '20220317', '20191007', '20210131', '20220427', '20220421', '20211027', '20190307', '20181206', '20211129', '20220216', '20210623', '20190212', '20200310', '20201120', '20210412', '20181101', '20211215', '20191030', '20221115', '20230126', '20191205', '20211214', '20220128', '20210210', '20190321', '20210128', '20211004', '20190809', '20201108', '20230510', '20181114', '20220202', '20210925', '20210107', '20211115', '20220405', '20230417', '20191024', '20230224', '20200227', '20191212', '20191112', '20191031', '20191027', '20230512', '20210122', '20200211', '20230522', '20210423', '20220919', '20191204', '20210427', '20191208', '20191203', '20210409', '20201005', '20211021', '20221104', '20230602', '20220826', '20200219', '20221211', '20210526', '20230415', '20181204', '20221214', '20190314', '20230405', '20181201', '20181108', '20221121', '20200224', '20220921', '20201006', '20190311', '20210507', '20210512', '20191029', '20181129', '20230324', '20221017', '20210504', '20210927', '20210311', '20210511', '20230419', '20221219', '20230209', '20200226', '20210517', '20191018', '20211101', '20210129', '20191013', '20221018', '20191209', '20220422', '20230406', '20210928', '20201217', '20220206', '20190220', '20201123', '20230307', '20230404', '20181130', '20221026', '20230421', '20201002', '20210111', '20190319', '20220923', '20210305', '20210519', '20230201', '20210219', '20211105']\n",
    "#all the folders not including the annex stuff"
   ]
  },
  {
   "cell_type": "markdown",
   "id": "fc4651f0-296e-4c13-84d4-2f6b7f18f8bd",
   "metadata": {},
   "source": [
    "list the files in the old data"
   ]
  },
  {
   "cell_type": "code",
   "execution_count": 46,
   "id": "88c64530-6ad7-4b46-a0c4-7194b6df189a",
   "metadata": {},
   "outputs": [],
   "source": [
    "db='CZF_Media_20230621'\n",
    "with open('all_files.csv', 'w', newline='') as f:\n",
    "    writer = csv.writer(f)\n",
    "    for folder_name in dirlist:\n",
    "        for root, dirs, files in os.walk(f'/nese/mit/group/sig/projects/readnet/RER1/{db}/Scores/{folder_name}'):\n",
    "            for file in files:\n",
    "                writer.writerow([db,folder_name, file])\n"
   ]
  },
  {
   "cell_type": "markdown",
   "id": "9cb15ee4-ec7f-4f3f-99ba-5f17e36d1fa7",
   "metadata": {},
   "source": [
    "list the new files that were sent"
   ]
  },
  {
   "cell_type": "code",
   "execution_count": 51,
   "id": "97ce30c2-9f2e-41e5-bbaf-84787e796587",
   "metadata": {},
   "outputs": [],
   "source": [
    "db='rer_missing'\n",
    "\n",
    "directory_path=f'/nese/mit/group/sig/projects/readnet/{db}/'\n",
    "#dirlist = [x[0] for x in os.walk(directory_path)] #recursive\n",
    "dirlist = next(os.walk(directory_path))[1]\n",
    "\n",
    "\n",
    "with open('all_files2.csv', 'w', newline='') as f:\n",
    "    writer = csv.writer(f)\n",
    "    for folder_name in dirlist:\n",
    "        for root, dirs, files in os.walk(f'/nese/mit/group/sig/projects/readnet/{db}/{folder_name}'):\n",
    "            for file in files:\n",
    "                writer.writerow([db,folder_name, file])\n"
   ]
  },
  {
   "cell_type": "code",
   "execution_count": 52,
   "id": "42c66a00-d8de-4446-a286-44b7c5acebdb",
   "metadata": {},
   "outputs": [
    {
     "name": "stderr",
     "output_type": "stream",
     "text": [
      "/tmp/ipykernel_24020/2064718083.py:5: DtypeWarning: Columns (1) have mixed types. Specify dtype option on import or set low_memory=False.\n",
      "  df1 = pd.read_csv(file1, header=None)  # Assuming no column names\n",
      "/tmp/ipykernel_24020/2064718083.py:8: DtypeWarning: Columns (1) have mixed types. Specify dtype option on import or set low_memory=False.\n",
      "  df2 = pd.read_csv(file2, header=None)\n"
     ]
    },
    {
     "data": {
      "text/html": [
       "<div>\n",
       "<style scoped>\n",
       "    .dataframe tbody tr th:only-of-type {\n",
       "        vertical-align: middle;\n",
       "    }\n",
       "\n",
       "    .dataframe tbody tr th {\n",
       "        vertical-align: top;\n",
       "    }\n",
       "\n",
       "    .dataframe thead th {\n",
       "        text-align: right;\n",
       "    }\n",
       "</style>\n",
       "<table border=\"1\" class=\"dataframe\">\n",
       "  <thead>\n",
       "    <tr style=\"text-align: right;\">\n",
       "      <th></th>\n",
       "      <th>source</th>\n",
       "      <th>folder</th>\n",
       "      <th>filename</th>\n",
       "    </tr>\n",
       "  </thead>\n",
       "  <tbody>\n",
       "    <tr>\n",
       "      <th>0</th>\n",
       "      <td>CZF_Media_20230621</td>\n",
       "      <td>20220509</td>\n",
       "      <td>EndofYearAssessmentG1K-KTEALWRTaskKG1-KTEA_LWR...</td>\n",
       "    </tr>\n",
       "    <tr>\n",
       "      <th>1</th>\n",
       "      <td>CZF_Media_20230621</td>\n",
       "      <td>20220509</td>\n",
       "      <td>EndofYearAssessmentG1K-KTEALWRTaskKG1-KTEA_LWR...</td>\n",
       "    </tr>\n",
       "    <tr>\n",
       "      <th>2</th>\n",
       "      <td>CZF_Media_20230621</td>\n",
       "      <td>20220509</td>\n",
       "      <td>EndofYearAssessmentG1K-KTEALWRTaskKG1-KTEA_LWR...</td>\n",
       "    </tr>\n",
       "    <tr>\n",
       "      <th>3</th>\n",
       "      <td>CZF_Media_20230621</td>\n",
       "      <td>20220509</td>\n",
       "      <td>EndofYearAssessmentG1K-KTEALWRTaskKG1-KTEA_LWR...</td>\n",
       "    </tr>\n",
       "    <tr>\n",
       "      <th>4</th>\n",
       "      <td>CZF_Media_20230621</td>\n",
       "      <td>20220509</td>\n",
       "      <td>EndofYearAssessmentG1K-KTEALWRTaskKG1-KTEA_LWR...</td>\n",
       "    </tr>\n",
       "    <tr>\n",
       "      <th>...</th>\n",
       "      <td>...</td>\n",
       "      <td>...</td>\n",
       "      <td>...</td>\n",
       "    </tr>\n",
       "    <tr>\n",
       "      <th>1025859</th>\n",
       "      <td>rer_missing</td>\n",
       "      <td>SCORE_MISSING</td>\n",
       "      <td>Winter22VirtualFidelityTestout-Part1-OralReadi...</td>\n",
       "    </tr>\n",
       "    <tr>\n",
       "      <th>1025860</th>\n",
       "      <td>rer_missing</td>\n",
       "      <td>SCORE_MISSING</td>\n",
       "      <td>Winter22VirtualFidelityTestout-Part1-OralReadi...</td>\n",
       "    </tr>\n",
       "    <tr>\n",
       "      <th>1025861</th>\n",
       "      <td>rer_missing</td>\n",
       "      <td>SCORE_MISSING</td>\n",
       "      <td>Winter22VirtualFidelityTestout-Part1-OralReadi...</td>\n",
       "    </tr>\n",
       "    <tr>\n",
       "      <th>1025862</th>\n",
       "      <td>rer_missing</td>\n",
       "      <td>SCORE_MISSING</td>\n",
       "      <td>Winter22VirtualFidelityTestout-Part1-OralReadi...</td>\n",
       "    </tr>\n",
       "    <tr>\n",
       "      <th>1025863</th>\n",
       "      <td>rer_missing</td>\n",
       "      <td>SCORE_MISSING</td>\n",
       "      <td>Winter22VirtualFidelityTestout-Part1-OralReadi...</td>\n",
       "    </tr>\n",
       "  </tbody>\n",
       "</table>\n",
       "<p>1025864 rows × 3 columns</p>\n",
       "</div>"
      ],
      "text/plain": [
       "                     source         folder  \\\n",
       "0        CZF_Media_20230621       20220509   \n",
       "1        CZF_Media_20230621       20220509   \n",
       "2        CZF_Media_20230621       20220509   \n",
       "3        CZF_Media_20230621       20220509   \n",
       "4        CZF_Media_20230621       20220509   \n",
       "...                     ...            ...   \n",
       "1025859         rer_missing  SCORE_MISSING   \n",
       "1025860         rer_missing  SCORE_MISSING   \n",
       "1025861         rer_missing  SCORE_MISSING   \n",
       "1025862         rer_missing  SCORE_MISSING   \n",
       "1025863         rer_missing  SCORE_MISSING   \n",
       "\n",
       "                                                  filename  \n",
       "0        EndofYearAssessmentG1K-KTEALWRTaskKG1-KTEA_LWR...  \n",
       "1        EndofYearAssessmentG1K-KTEALWRTaskKG1-KTEA_LWR...  \n",
       "2        EndofYearAssessmentG1K-KTEALWRTaskKG1-KTEA_LWR...  \n",
       "3        EndofYearAssessmentG1K-KTEALWRTaskKG1-KTEA_LWR...  \n",
       "4        EndofYearAssessmentG1K-KTEALWRTaskKG1-KTEA_LWR...  \n",
       "...                                                    ...  \n",
       "1025859  Winter22VirtualFidelityTestout-Part1-OralReadi...  \n",
       "1025860  Winter22VirtualFidelityTestout-Part1-OralReadi...  \n",
       "1025861  Winter22VirtualFidelityTestout-Part1-OralReadi...  \n",
       "1025862  Winter22VirtualFidelityTestout-Part1-OralReadi...  \n",
       "1025863  Winter22VirtualFidelityTestout-Part1-OralReadi...  \n",
       "\n",
       "[1025864 rows x 3 columns]"
      ]
     },
     "execution_count": 52,
     "metadata": {},
     "output_type": "execute_result"
    }
   ],
   "source": [
    "file1 = 'all_files.csv'\n",
    "file2 = 'all_files2.csv'\n",
    "\n",
    "# Read the CSVs into DataFrames\n",
    "df1 = pd.read_csv(file1, header=None)  # Assuming no column names\n",
    "df1.rename(columns={0: 'source', 1: 'folder', 2: 'filename'}, inplace=True)\n",
    "\n",
    "df2 = pd.read_csv(file2, header=None)\n",
    "df2.rename(columns={0: 'source', 1: 'folder', 2: 'filename'}, inplace=True)\n",
    "\n",
    "\n",
    "# Concatenate the DataFrames\n",
    "combined_df = pd.concat([df1, df2], ignore_index=True)\n",
    "#combined_df.rename(columns={0: 'source', 1: 'folder', 2: 'filename'}, inplace=True)\n",
    "\n",
    "combined_df\n",
    "\n"
   ]
  },
  {
   "cell_type": "code",
   "execution_count": 53,
   "id": "3409671c-fd42-4e55-9c08-cf61f66df679",
   "metadata": {},
   "outputs": [
    {
     "name": "stdout",
     "output_type": "stream",
     "text": [
      "511664 in df1\n",
      "514200 in df2\n"
     ]
    }
   ],
   "source": [
    "print(f'{len(df1)} in df1')\n",
    "print(f'{len(df2)} in df2')"
   ]
  },
  {
   "cell_type": "code",
   "execution_count": 54,
   "id": "c2429917-d497-43f4-aa0f-6142c476bcfc",
   "metadata": {},
   "outputs": [
    {
     "data": {
      "text/html": [
       "<div>\n",
       "<style scoped>\n",
       "    .dataframe tbody tr th:only-of-type {\n",
       "        vertical-align: middle;\n",
       "    }\n",
       "\n",
       "    .dataframe tbody tr th {\n",
       "        vertical-align: top;\n",
       "    }\n",
       "\n",
       "    .dataframe thead th {\n",
       "        text-align: right;\n",
       "    }\n",
       "</style>\n",
       "<table border=\"1\" class=\"dataframe\">\n",
       "  <thead>\n",
       "    <tr style=\"text-align: right;\">\n",
       "      <th></th>\n",
       "      <th>source</th>\n",
       "      <th>folder</th>\n",
       "      <th>filename</th>\n",
       "    </tr>\n",
       "  </thead>\n",
       "  <tbody>\n",
       "    <tr>\n",
       "      <th>140370</th>\n",
       "      <td>CZF_Media_20230621</td>\n",
       "      <td>.datalad</td>\n",
       "      <td>.gitattributes</td>\n",
       "    </tr>\n",
       "    <tr>\n",
       "      <th>140371</th>\n",
       "      <td>CZF_Media_20230621</td>\n",
       "      <td>.datalad</td>\n",
       "      <td>config</td>\n",
       "    </tr>\n",
       "    <tr>\n",
       "      <th>465765</th>\n",
       "      <td>CZF_Media_20230621</td>\n",
       "      <td>20181201</td>\n",
       "      <td>TestPAL-PairedAssociateLearning(K:3Char)-PA3_0...</td>\n",
       "    </tr>\n",
       "  </tbody>\n",
       "</table>\n",
       "</div>"
      ],
      "text/plain": [
       "                    source    folder  \\\n",
       "140370  CZF_Media_20230621  .datalad   \n",
       "140371  CZF_Media_20230621  .datalad   \n",
       "465765  CZF_Media_20230621  20181201   \n",
       "\n",
       "                                                 filename  \n",
       "140370                                     .gitattributes  \n",
       "140371                                             config  \n",
       "465765  TestPAL-PairedAssociateLearning(K:3Char)-PA3_0...  "
      ]
     },
     "execution_count": 54,
     "metadata": {},
     "output_type": "execute_result"
    }
   ],
   "source": [
    "df1_not_in_df2 = df1[~df1['filename'].isin(df2['filename'])]\n",
    "df1_not_in_df2"
   ]
  },
  {
   "cell_type": "code",
   "execution_count": 55,
   "id": "36453b06-eb47-403f-810a-5e52d7b9228a",
   "metadata": {},
   "outputs": [
    {
     "data": {
      "text/html": [
       "<div>\n",
       "<style scoped>\n",
       "    .dataframe tbody tr th:only-of-type {\n",
       "        vertical-align: middle;\n",
       "    }\n",
       "\n",
       "    .dataframe tbody tr th {\n",
       "        vertical-align: top;\n",
       "    }\n",
       "\n",
       "    .dataframe thead th {\n",
       "        text-align: right;\n",
       "    }\n",
       "</style>\n",
       "<table border=\"1\" class=\"dataframe\">\n",
       "  <thead>\n",
       "    <tr style=\"text-align: right;\">\n",
       "      <th></th>\n",
       "      <th>source</th>\n",
       "      <th>folder</th>\n",
       "      <th>filename</th>\n",
       "    </tr>\n",
       "  </thead>\n",
       "  <tbody>\n",
       "    <tr>\n",
       "      <th>296803</th>\n",
       "      <td>rer_missing</td>\n",
       "      <td>20220404</td>\n",
       "      <td>Winter22VirtualFidelityTestout-Full-OralReadin...</td>\n",
       "    </tr>\n",
       "    <tr>\n",
       "      <th>310346</th>\n",
       "      <td>rer_missing</td>\n",
       "      <td>20220419</td>\n",
       "      <td>Winter22VirtualFidelityTestout-Full-DigitSpanT...</td>\n",
       "    </tr>\n",
       "    <tr>\n",
       "      <th>310347</th>\n",
       "      <td>rer_missing</td>\n",
       "      <td>20220419</td>\n",
       "      <td>Winter22VirtualFidelityTestout-Full-DigitSpanT...</td>\n",
       "    </tr>\n",
       "    <tr>\n",
       "      <th>310348</th>\n",
       "      <td>rer_missing</td>\n",
       "      <td>20220419</td>\n",
       "      <td>Winter22VirtualFidelityTestout-Full-DigitSpanT...</td>\n",
       "    </tr>\n",
       "    <tr>\n",
       "      <th>310349</th>\n",
       "      <td>rer_missing</td>\n",
       "      <td>20220419</td>\n",
       "      <td>Winter22VirtualFidelityTestout-Full-DigitSpanT...</td>\n",
       "    </tr>\n",
       "    <tr>\n",
       "      <th>...</th>\n",
       "      <td>...</td>\n",
       "      <td>...</td>\n",
       "      <td>...</td>\n",
       "    </tr>\n",
       "    <tr>\n",
       "      <th>510444</th>\n",
       "      <td>rer_missing</td>\n",
       "      <td>20230604</td>\n",
       "      <td>EndofYearAssessmentG2G3-KTEANWDTask-KTEA_NWD_A...</td>\n",
       "    </tr>\n",
       "    <tr>\n",
       "      <th>510445</th>\n",
       "      <td>rer_missing</td>\n",
       "      <td>20230604</td>\n",
       "      <td>EndofYearAssessmentG2G3-KTEANWDTask-KTEA_NWD_A...</td>\n",
       "    </tr>\n",
       "    <tr>\n",
       "      <th>510446</th>\n",
       "      <td>rer_missing</td>\n",
       "      <td>20230604</td>\n",
       "      <td>EndofYearAssessmentG2G3-KTEANWDTask-KTEA_NWD_A...</td>\n",
       "    </tr>\n",
       "    <tr>\n",
       "      <th>510447</th>\n",
       "      <td>rer_missing</td>\n",
       "      <td>20230604</td>\n",
       "      <td>EndofYearAssessmentG2G3-KTEANWDTask-KTEA_NWD_A...</td>\n",
       "    </tr>\n",
       "    <tr>\n",
       "      <th>514192</th>\n",
       "      <td>rer_missing</td>\n",
       "      <td>SCORE_MISSING</td>\n",
       "      <td>Winter22VirtualFidelityTestout-Full-OralReadin...</td>\n",
       "    </tr>\n",
       "  </tbody>\n",
       "</table>\n",
       "<p>2539 rows × 3 columns</p>\n",
       "</div>"
      ],
      "text/plain": [
       "             source         folder  \\\n",
       "296803  rer_missing       20220404   \n",
       "310346  rer_missing       20220419   \n",
       "310347  rer_missing       20220419   \n",
       "310348  rer_missing       20220419   \n",
       "310349  rer_missing       20220419   \n",
       "...             ...            ...   \n",
       "510444  rer_missing       20230604   \n",
       "510445  rer_missing       20230604   \n",
       "510446  rer_missing       20230604   \n",
       "510447  rer_missing       20230604   \n",
       "514192  rer_missing  SCORE_MISSING   \n",
       "\n",
       "                                                 filename  \n",
       "296803  Winter22VirtualFidelityTestout-Full-OralReadin...  \n",
       "310346  Winter22VirtualFidelityTestout-Full-DigitSpanT...  \n",
       "310347  Winter22VirtualFidelityTestout-Full-DigitSpanT...  \n",
       "310348  Winter22VirtualFidelityTestout-Full-DigitSpanT...  \n",
       "310349  Winter22VirtualFidelityTestout-Full-DigitSpanT...  \n",
       "...                                                   ...  \n",
       "510444  EndofYearAssessmentG2G3-KTEANWDTask-KTEA_NWD_A...  \n",
       "510445  EndofYearAssessmentG2G3-KTEANWDTask-KTEA_NWD_A...  \n",
       "510446  EndofYearAssessmentG2G3-KTEANWDTask-KTEA_NWD_A...  \n",
       "510447  EndofYearAssessmentG2G3-KTEANWDTask-KTEA_NWD_A...  \n",
       "514192  Winter22VirtualFidelityTestout-Full-OralReadin...  \n",
       "\n",
       "[2539 rows x 3 columns]"
      ]
     },
     "execution_count": 55,
     "metadata": {},
     "output_type": "execute_result"
    }
   ],
   "source": [
    "df2_not_in_df1 = df2[~df2['filename'].isin(df1['filename'])]\n",
    "df2_not_in_df1"
   ]
  },
  {
   "cell_type": "code",
   "execution_count": null,
   "id": "0579bd5a-1a24-40a3-b4be-a7e9b429fa31",
   "metadata": {},
   "outputs": [],
   "source": []
  },
  {
   "cell_type": "code",
   "execution_count": 10,
   "id": "6fdacd24-3acd-457b-9cb1-fcfa53abfb74",
   "metadata": {},
   "outputs": [
    {
     "data": {
      "text/plain": [
       "1023322"
      ]
     },
     "execution_count": 10,
     "metadata": {},
     "output_type": "execute_result"
    }
   ],
   "source": [
    "duplicate_rows = combined_df[combined_df.duplicated(subset=['filename'],keep=False)]\n",
    "len(duplicate_rows)"
   ]
  },
  {
   "cell_type": "code",
   "execution_count": 43,
   "id": "e4181cdf-f603-41cb-8605-6b2d2e4cc41f",
   "metadata": {},
   "outputs": [],
   "source": [
    "duplicate_rows_sort = duplicate_rows.sort_values(by=['filename','source','folder'], ascending=False)\n",
    "duplicate_rows_sort.to_csv('duplicated.csv', index=False)"
   ]
  },
  {
   "cell_type": "code",
   "execution_count": null,
   "id": "c2bc1d05-b100-42bb-a42c-346554a39eb8",
   "metadata": {},
   "outputs": [],
   "source": [
    "new_df = combined_df.drop_duplicates(subset=['filename'])\n",
    "new_df"
   ]
  }
 ],
 "metadata": {
  "kernelspec": {
   "display_name": "Python 3 (ipykernel)",
   "language": "python",
   "name": "python3"
  },
  "language_info": {
   "codemirror_mode": {
    "name": "ipython",
    "version": 3
   },
   "file_extension": ".py",
   "mimetype": "text/x-python",
   "name": "python",
   "nbconvert_exporter": "python",
   "pygments_lexer": "ipython3",
   "version": "3.8.12"
  }
 },
 "nbformat": 4,
 "nbformat_minor": 5
}

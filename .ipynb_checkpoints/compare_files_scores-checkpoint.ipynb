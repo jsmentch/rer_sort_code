{
 "cells": [
  {
   "cell_type": "markdown",
   "metadata": {},
   "source": [
    "# Compare file list with score list from RER"
   ]
  },
  {
   "cell_type": "code",
   "execution_count": 2,
   "metadata": {},
   "outputs": [],
   "source": [
    "import os\n",
    "import random\n",
    "import shutil\n",
    "import re\n",
    "import pandas as pd"
   ]
  },
  {
   "cell_type": "markdown",
   "metadata": {},
   "source": [
    "### Find the files that don't have a score"
   ]
  },
  {
   "cell_type": "code",
   "execution_count": 25,
   "metadata": {},
   "outputs": [],
   "source": [
    "df2=pd.read_csv('DUPES_rer_kaggle.csv')\n",
    "\n",
    "\n",
    "files=pd.read_csv('rer_all_audio_files_list_upd.csv')\n",
    "\n",
    "files.drop_duplicates(inplace=True) #remove duplicates in place\n",
    "# data.dropna(subset=['student_id'], inplace=True) #remove NaN subjects\n",
    "\n",
    "# duplicates = data[data.duplicated(subset=['student_id', 'task_name', 'item_name', 'semester'], keep=False)]\n",
    "\n",
    "# duplicates=duplicates.sort_values(by=['student_id', 'task_name', 'item_name', 'semester'])\n",
    "\n",
    "#duplicates.to_csv('rer_duplicate_items.csv', index=False)\n",
    "\n",
    "# Get rows of df1 which are not in df2\n",
    "# no_duplicates = data.merge(duplicates, how='outer', indicator=True).query(\"_merge == 'left_only'\").drop('_merge', axis=1)\n",
    "\n",
    "#no_duplicates\n",
    "#no_duplicates.to_csv('no_duplicates.csv', index=False)\n",
    "\n",
    "# Split the strings in col1 based on ':'\n",
    "files[['task', 'new_col2']] = files['task_name'].str.split(':', expand=True)\n",
    "\n",
    "# Split the strings in new_col2 based on '('\n",
    "files[['task', 'new_col3']] = files['task'].str.split('(', expand=True)\n",
    "\n",
    "# Drop the unwanted columns\n",
    "files.drop(['new_col2', 'new_col3'], axis=1, inplace=True)\n",
    "\n",
    "# Replace all '_' and ' ' characters in col1 with '' and also remove Practice and Items\n",
    "files['task'] = files['task'].str.replace('-', '').str.replace(' ', '').str.replace('Items', '').str.replace('Practice', '')\n",
    "\n",
    "\n",
    "# Assuming 'files' is your dataframe\n",
    "tasks = ['NonwordRepetition', 'SentenceRepetition', 'Blending', 'Deletion']\n",
    "df1 = files[files['task'].isin(tasks)]\n",
    "\n",
    "\n"
   ]
  },
  {
   "cell_type": "code",
   "execution_count": 32,
   "metadata": {},
   "outputs": [],
   "source": [
    "unlinked=df1[~df1['audio_string'].isin(df2['audio_string'])]\n",
    "unlinked.to_csv('not_linked_files.csv', index=False)"
   ]
  },
  {
   "cell_type": "markdown",
   "metadata": {},
   "source": [
    "### Find the scores that don't have a file"
   ]
  },
  {
   "cell_type": "code",
   "execution_count": 3,
   "metadata": {},
   "outputs": [],
   "source": [
    "df2=pd.read_csv('DUPES_rer_kaggle.csv')"
   ]
  },
  {
   "cell_type": "code",
   "execution_count": null,
   "metadata": {},
   "outputs": [],
   "source": []
  },
  {
   "cell_type": "code",
   "execution_count": null,
   "metadata": {},
   "outputs": [],
   "source": []
  },
  {
   "cell_type": "code",
   "execution_count": null,
   "metadata": {},
   "outputs": [],
   "source": [
    "# make a dataframe that has all of the scores expanded\n",
    "# each row is a unique score"
   ]
  }
 ],
 "metadata": {
  "kernelspec": {
   "display_name": "Python 3 (ipykernel)",
   "language": "python",
   "name": "python3"
  },
  "language_info": {
   "codemirror_mode": {
    "name": "ipython",
    "version": 3
   },
   "file_extension": ".py",
   "mimetype": "text/x-python",
   "name": "python",
   "nbconvert_exporter": "python",
   "pygments_lexer": "ipython3",
   "version": "3.8.12"
  }
 },
 "nbformat": 4,
 "nbformat_minor": 4
}
